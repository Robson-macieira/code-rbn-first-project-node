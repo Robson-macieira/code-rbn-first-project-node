{
  "cells": [
    {
      "cell_type": "code",
      "execution_count": null,
      "metadata": {
        "id": "VjYy0F2gZIPR"
      },
      "outputs": [],
      "source": [
        "!pip install pygit2==1.15.1\n",
        "%cd /content\n",
        "!git clone https://github.com/lllyasviel/Fooocus.git\n",
        "%cd /content/Fooocus\n",
        "!python entry_with_update.py --share --always-high-vram\n"
      ]
    },
    {
      "cell_type": "code",
      "source": [
        "import requests\n",
        "import os\n",
        "\n",
        "# URL do modelo\n",
        "url = \"https://civitai.com/api/download/models/798204?type=Model&format=SafeTensor&size=full&fp=fp16\"\n",
        "\n",
        "# Diretório de destino no Foocus\n",
        "destination_folder = \"/content/Foocus/models/Checkpoints/\"\n",
        "os.makedirs(destination_folder, exist_ok=True)\n",
        "\n",
        "# Caminho completo para salvar o arquivo\n",
        "destination = os.path.join(destination_folder, \"RealvisxlV50_v50LightningBakedvae\")\n",
        "\n",
        "# Fazendo o download com stream\n",
        "with requests.get(url, stream=True) as r:\n",
        "    r.raise_for_status()\n",
        "    with open(destination, \"wb\") as f:\n",
        "        for chunk in r.iter_content(chunk_size=8192):\n",
        "            f.write(chunk)\n",
        "\n",
        "print(f\"Download concluído: {destination}\")\n"
      ],
      "metadata": {
        "id": "4iS7mR4cmFjf",
        "outputId": "78f3c81a-efc6-4efa-eb74-a96f8298fdc6",
        "colab": {
          "base_uri": "https://localhost:8080/"
        }
      },
      "execution_count": 2,
      "outputs": [
        {
          "output_type": "stream",
          "name": "stdout",
          "text": [
            "Download concluído: /content/Foocus/models/Checkpoints/RealvisxlV50_v50LightningBakedvae\n"
          ]
        }
      ]
    }
  ],
  "metadata": {
    "accelerator": "GPU",
    "colab": {
      "gpuType": "T4",
      "provenance": []
    },
    "kernelspec": {
      "display_name": "Python 3",
      "name": "python3"
    },
    "language_info": {
      "name": "python"
    }
  },
  "nbformat": 4,
  "nbformat_minor": 0
}